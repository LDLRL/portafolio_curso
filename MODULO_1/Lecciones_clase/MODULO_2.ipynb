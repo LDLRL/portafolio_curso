{
  "nbformat": 4,
  "nbformat_minor": 0,
  "metadata": {
    "colab": {
      "provenance": []
    },
    "kernelspec": {
      "name": "python3",
      "display_name": "Python 3"
    },
    "language_info": {
      "name": "python"
    }
  },
  "cells": [
    {
      "cell_type": "markdown",
      "source": [
        "#**LECCIÓN 1**"
      ],
      "metadata": {
        "id": "gyBh5LNd-WDA"
      }
    },
    {
      "cell_type": "markdown",
      "source": [
        "\n",
        "Reconocer los elementos centrales del marco de trabajo Scrum para comprender cómo se estructura y funciona en un entorno ágil.\n",
        "\n",
        "Consigna:\n",
        "\n",
        "Construye un programa que simule una calculadora básica, pero cada operación (suma, resta, multiplicación y división) debe estar definida como una función diferente. Luego, crea una función principal que le pregunte al usuario qué operación desea realizar y la ejecute.\n",
        "\n",
        "Tiempo: 20 minutos"
      ],
      "metadata": {
        "id": "Z37P-zYjMUus"
      }
    },
    {
      "cell_type": "code",
      "source": [
        "# Función para sumar\n",
        "def sumar(a, b):\n",
        "    return a + b\n",
        "\n",
        "# Función para restar\n",
        "def restar(a, b):\n",
        "    return a - b\n",
        "\n",
        "# Función para multiplicar\n",
        "def multiplicar(a, b):\n",
        "    return a * b\n",
        "\n",
        "# Función para dividir (con validación)\n",
        "def dividir(a, b):\n",
        "    if b == 0:\n",
        "        return \"Error: división por cero no permitida.\"\n",
        "    return a / b\n",
        "\n",
        "# Función principal\n",
        "def calculadora():\n",
        "    print(\"Bienvenido a la calculadora básica.\")\n",
        "    print(\"Operaciones disponibles: suma, resta, multiplicación, división\")\n",
        "\n",
        "    operacion = input(\"¿Qué operación deseas realizar? \").lower()\n",
        "    a = float(input(\"Ingresa el primer número: \"))\n",
        "    b = float(input(\"Ingresa el segundo número: \"))\n",
        "\n",
        "    if operacion == \"suma\":\n",
        "        resultado = sumar(a, b)\n",
        "    elif operacion == \"resta\":\n",
        "        resultado = restar(a, b)\n",
        "    elif operacion == \"multiplicación\" or operacion == \"multiplicacion\":\n",
        "        resultado = multiplicar(a, b)\n",
        "    elif operacion == \"división\" or operacion == \"division\":\n",
        "        resultado = dividir(a, b)\n",
        "    else:\n",
        "        resultado = \"Operación no reconocida.\"\n",
        "\n",
        "    print(\"Resultado:\", resultado)\n",
        "\n",
        "# Ejecutar la calculadora\n",
        "calculadora()"
      ],
      "metadata": {
        "colab": {
          "base_uri": "https://localhost:8080/"
        },
        "id": "pHDxNe_jMXVk",
        "outputId": "d756ad24-85b3-4510-e073-bdb196e35a42"
      },
      "execution_count": null,
      "outputs": [
        {
          "output_type": "stream",
          "name": "stdout",
          "text": [
            "Bienvenido a la calculadora básica.\n",
            "Operaciones disponibles: suma, resta, multiplicación, división\n",
            "¿Qué operación deseas realizar? Suma\n",
            "Ingresa el primer número: 4\n",
            "Ingresa el segundo número: 5\n",
            "Resultado: 9.0\n"
          ]
        }
      ]
    },
    {
      "cell_type": "markdown",
      "source": [
        "#**LECCIÓN  2**"
      ],
      "metadata": {
        "id": "r1FE2Bqk_DZX"
      }
    },
    {
      "cell_type": "markdown",
      "source": [
        "Ejerciten el uso de variables, tipos de datos, operaciones aritméticas y condicionales simples, a través de un caso que simula una situación real cotidiana. Esto refuerza la lógica y comprensión de los conceptos vistos en clase, en un entorno contextualizado.\n",
        "\n",
        "Consigna:\n",
        "\n",
        "Crear un programa en Python que reciba el nombre, edad y país de residencia de una persona. El sistema debe imprimir un mensaje personalizado y, adicionalmente, informar si esa persona puede acceder a un beneficio que solo está disponible para mayores de 18 años que vivan en Argentina, Chile o Colombia.\n",
        "\n",
        "1. Utiliza input() para capturar el nombre, edad y país desde la consola.\n",
        "\n",
        "2. Convierte la edad a entero y el país a minúsculas para facilitar la validación.\n",
        "\n",
        "3. Usa una variable booleana que determine si cumple ambas condiciones: tener 18 años o más y vivir en uno de los países válidos.\n",
        "\n",
        "4. Muestra un mensaje con print() indicando si puede o no acceder al beneficio.\n",
        "\n",
        "5. Aplica buenas prácticas: nombres de variables descriptivos y uso de f-strings."
      ],
      "metadata": {
        "id": "D7RGionjMmTz"
      }
    },
    {
      "cell_type": "code",
      "source": [
        "# 1. Captura de datos desde la consola\n",
        "nombre = input(\"Ingrese su nombre: \")\n",
        "edad_str = input(\"Ingrese su edad: \")\n",
        "pais = input(\"Ingrese su país de residencia: \")\n",
        "\n",
        "# 2. Conversión de tipos y normalización\n",
        "edad = int(edad_str)  # Convertimos la edad a entero\n",
        "pais = pais.lower()   # Convertimos el país a minúsculas para validación\n",
        "\n",
        "# 3. Verificación de condiciones\n",
        "es_mayor_de_edad = edad >= 18\n",
        "pais_valido = pais in [\"argentina\", \"chile\", \"colombia\"]\n",
        "\n",
        "# 4. Variable booleana final que evalúa ambas condiciones\n",
        "acceso_beneficio = es_mayor_de_edad and pais_valido\n",
        "\n",
        "# 5. Mensaje personalizado y validación final\n",
        "print(f\"\\nHola, {nombre} de {pais.capitalize()}.\")\n",
        "\n",
        "if acceso_beneficio:\n",
        "    print(\"¡Puedes acceder al beneficio!\")\n",
        "else:\n",
        "    print(\"Lo sentimos, no cumples con los requisitos para acceder al beneficio.\")"
      ],
      "metadata": {
        "colab": {
          "base_uri": "https://localhost:8080/"
        },
        "id": "gNl-ZUPjNXvK",
        "outputId": "0d4f2691-d42b-4730-b692-27792ae6cf58"
      },
      "execution_count": null,
      "outputs": [
        {
          "output_type": "stream",
          "name": "stdout",
          "text": [
            "Ingrese su nombre: Lore\n",
            "Ingrese su edad: 34\n",
            "Ingrese su país de residencia: Chile\n",
            "\n",
            "Hola, Lore de Chile.\n",
            "¡Puedes acceder al beneficio!\n"
          ]
        }
      ]
    },
    {
      "cell_type": "markdown",
      "source": [
        "#**LECCIÓN 3**"
      ],
      "metadata": {
        "id": "FpWnH4j0_fx6"
      }
    },
    {
      "cell_type": "markdown",
      "source": [
        "En proyectos reales, separar funcionalidades en módulos hace el código más mantenible y profesional. Esta actividad busca que los estudiantes practiquen cómo crear y reutilizar módulos propios en Python.\n",
        "\n",
        "Consigna:\n",
        "\n",
        "Divide el programa de la actividad anterior en dos archivos: uno que contenga todas las funciones (tu propio módulo) y otro que sea el programa principal desde donde se importa y se ejecuta la lógica del menú.\n",
        "\n",
        "Paso a paso:\n",
        "\n",
        "Crea un archivo llamado operaciones.py que contenga las funciones: sumar, restar, multiplicar y dividir.\n",
        "\n",
        "Documenta cada función con su respectivo docstring.\n",
        "\n",
        "En un segundo archivo main.py, importa el módulo usando import operaciones.\n",
        "\n",
        "Usa operaciones.sumar(...), etc., para realizar las operaciones.\n",
        "\n",
        "Ejecuta el programa desde main.py y verifica que funcione correctamente."
      ],
      "metadata": {
        "id": "0yRsZl30Npwp"
      }
    },
    {
      "cell_type": "code",
      "source": [
        "%%writefile operaciones.py\n",
        "\"\"\"\n",
        "Módulo de operaciones matemáticas básicas.\n",
        "Contiene funciones para sumar, restar, multiplicar y dividir dos números.\n",
        "\"\"\"\n",
        "\n",
        "def sumar(a, b):\n",
        "    \"\"\"Devuelve la suma de a y b.\"\"\"\n",
        "    return a + b\n",
        "\n",
        "def restar(a, b):\n",
        "    \"\"\"Devuelve la resta de a menos b.\"\"\"\n",
        "    return a - b\n",
        "\n",
        "def multiplicar(a, b):\n",
        "    \"\"\"Devuelve el producto de a y b.\"\"\"\n",
        "    return a * b\n",
        "\n",
        "def dividir(a, b):\n",
        "    \"\"\"Devuelve la división de a entre b. Si b es 0, devuelve un mensaje de error.\"\"\"\n",
        "    if b == 0:\n",
        "        return \"Error: división por cero no permitida.\"\n",
        "    return a / b"
      ],
      "metadata": {
        "colab": {
          "base_uri": "https://localhost:8080/"
        },
        "id": "s88kUqlCPUm1",
        "outputId": "44ddd1d8-4efb-49b5-f47b-874dd0b257ce"
      },
      "execution_count": null,
      "outputs": [
        {
          "output_type": "stream",
          "name": "stdout",
          "text": [
            "Overwriting operaciones.py\n"
          ]
        }
      ]
    },
    {
      "cell_type": "code",
      "source": [
        "import operaciones  # Importa tu módulo\n",
        "\n",
        "def main():\n",
        "    print(\"=== CALCULADORA MODULAR ===\")\n",
        "\n",
        "    while True:\n",
        "        print(\"\\nSelecciona una operación:\")\n",
        "        print(\"1. Suma\")\n",
        "        print(\"2. Resta\")\n",
        "        print(\"3. Multiplicación\")\n",
        "        print(\"4. División\")\n",
        "        print(\"0. Salir\")\n",
        "\n",
        "        opcion = input(\"Ingresa el número de la operación (0-4): \")\n",
        "\n",
        "        if opcion == \"0\":\n",
        "            print(\"Gracias por usar la calculadora. ¡Hasta luego!\")\n",
        "            break\n",
        "\n",
        "        if opcion not in [\"1\", \"2\", \"3\", \"4\"]:\n",
        "            print(\"Opción no válida. Intenta nuevamente.\")\n",
        "            continue\n",
        "\n",
        "        try:\n",
        "            a = float(input(\"Ingresa el primer número: \"))\n",
        "            b = float(input(\"Ingresa el segundo número: \"))\n",
        "        except ValueError:\n",
        "            print(\"Error: ingresa solo números.\")\n",
        "            continue\n",
        "\n",
        "        if opcion == \"1\":\n",
        "            resultado = operaciones.sumar(a, b)\n",
        "            nombre_op = \"suma\"\n",
        "        elif opcion == \"2\":\n",
        "            resultado = operaciones.restar(a, b)\n",
        "            nombre_op = \"resta\"\n",
        "        elif opcion == \"3\":\n",
        "            resultado = operaciones.multiplicar(a, b)\n",
        "            nombre_op = \"multiplicación\"\n",
        "        elif opcion == \"4\":\n",
        "            resultado = operaciones.dividir(a, b)\n",
        "            nombre_op = \"división\"\n",
        "\n",
        "        print(f\"\\nResultado de la {nombre_op}: {resultado}\")\n",
        "\n",
        "# Ejecutar el programa\n",
        "main()"
      ],
      "metadata": {
        "id": "YPLEN9hSPVyw"
      },
      "execution_count": null,
      "outputs": []
    },
    {
      "cell_type": "markdown",
      "source": [
        "#**LECCIÓN 4**"
      ],
      "metadata": {
        "id": "Qct8Vjwq_nRw"
      }
    },
    {
      "cell_type": "markdown",
      "source": [
        "##Ejercicio 1.\n",
        "Este ejercicio busca ejercitar el uso de listas y bucles for para recorrer datos, aplicar lógica condicional y calcular estadísticas básicas. Es una situación frecuente en ingeniería de datos: analizar una colección de valores numéricos.\n",
        "\n",
        "Consigna:\n",
        "\n",
        "Escribe un programa que reciba una lista de calificaciones (números entre 0 y 100) y realice lo siguiente:\n",
        "\n",
        "Calcule el promedio general.\n",
        "\n",
        "Cuente cuántos estudiantes aprobaron (nota ≥ 60).\n",
        "\n",
        "Genere una nueva lista solo con las notas aprobadas.\n",
        "\n",
        "Tiempo: 20 minutos\n",
        "\n",
        "31\n",
        "\n",
        ">\n",
        "\n",
        "Paso a paso:\n",
        "\n",
        "1. Defina una lista con al menos 8 calificaciones.\n",
        "\n",
        "2. Use un for para recorrer las calificaciones y calcular el total acumulado.\n",
        "\n",
        "3. Sume una condición (if) para contar los aprobados y guardar sus notas en otra lista.\n",
        "\n",
        "4. Calcule el promedio al final y muestrelo junto con la cantidad de aprobados y su lista.\n",
        "\n",
        "##Ejercicio 2\n",
        "Este ejercicio trabaja con diccionarios y diccionarios anidados, como representación de un conjunto de datos estructurado. Refuerza el acceso por clave y la iteración sobre items().\n",
        "\n",
        "Consigna:\n",
        "\n",
        "Escribe un programa que recorra un diccionario de empleados con nombre y edad, y:\n",
        "\n",
        "Imprima solo los empleados mayores de 30 años.\n",
        "\n",
        "Genere una lista con los nombres de quienes tienen menos de 30.\n",
        "\n",
        "Indique cuántos empleados hay en total.\n",
        "\n",
        "Tiempo: 20 minutos\n",
        "\n",
        "32\n",
        "\n",
        ">\n",
        "\n",
        "Paso a paso:\n",
        "\n",
        "1. Crea un diccionario con al menos 5 empleados, por ejemplo:\n",
        "\n",
        "empleados = {\n",
        "\n",
        "\"emp1': {'nombre': 'Ana', 'edad\": 28), \"emp2\": { nombre': \"Luis\", \"edad: 35),\n",
        "\n",
        "}\n",
        "\n",
        "Usa un for y .items() para recorrer cada empleado.\n",
        "\n",
        "Aplica una condición para filtrar según la edad.\n",
        "\n",
        "Guarda en una lista los nombres que cumplan con el criterio y conta los empleados."
      ],
      "metadata": {
        "id": "cbu6xXssPZBY"
      }
    },
    {
      "cell_type": "code",
      "source": [
        "# 1. Definimos una lista con al menos 8 calificaciones (entre 0 y 100)\n",
        "calificaciones = [78, 95, 63, 47, 89, 55, 100, 61]\n",
        "\n",
        "# Variables de apoyo\n",
        "suma_total = 0\n",
        "aprobados = 0\n",
        "notas_aprobadas = []\n",
        "\n",
        "# 2 y 3. Recorrer las calificaciones, calcular suma total y contar aprobados\n",
        "for nota in calificaciones:\n",
        "    suma_total += nota\n",
        "    if nota >= 60:\n",
        "        aprobados += 1\n",
        "        notas_aprobadas.append(nota)\n",
        "\n",
        "# 4. Calcular promedio y mostrar resultados\n",
        "promedio = suma_total / len(calificaciones)\n",
        "\n",
        "print(f\"Promedio general: {promedio:.2f}\")\n",
        "print(f\"Cantidad de aprobados: {aprobados}\")\n",
        "print(f\"Notas aprobadas: {notas_aprobadas}\")"
      ],
      "metadata": {
        "colab": {
          "base_uri": "https://localhost:8080/"
        },
        "id": "SeIes-EgRzo7",
        "outputId": "b58f0c18-ca55-40c6-ea76-d0ff1700ad2d"
      },
      "execution_count": null,
      "outputs": [
        {
          "output_type": "stream",
          "name": "stdout",
          "text": [
            "Promedio general: 73.50\n",
            "Cantidad de aprobados: 6\n",
            "Notas aprobadas: [78, 95, 63, 89, 100, 61]\n"
          ]
        }
      ]
    },
    {
      "cell_type": "code",
      "source": [
        "# 1. Diccionario con al menos 5 empleados\n",
        "empleados = {\n",
        "    \"emp1\": {\"nombre\": \"Ana\", \"edad\": 28},\n",
        "    \"emp2\": {\"nombre\": \"Luis\", \"edad\": 35},\n",
        "    \"emp3\": {\"nombre\": \"Sofía\", \"edad\": 22},\n",
        "    \"emp4\": {\"nombre\": \"Carlos\", \"edad\": 41},\n",
        "    \"emp5\": {\"nombre\": \"Valeria\", \"edad\": 30}\n",
        "}\n",
        "\n",
        "# Variables de apoyo\n",
        "menores_30 = []\n",
        "total_empleados = 0\n",
        "\n",
        "# 2 y 3. Recorrer diccionario, filtrar por edad y contar\n",
        "for clave, datos in empleados.items():\n",
        "    total_empleados += 1\n",
        "    if datos[\"edad\"] > 30:\n",
        "        print(f\"{datos['nombre']} tiene {datos['edad']} años (mayor de 30)\")\n",
        "    elif datos[\"edad\"] < 30:\n",
        "        menores_30.append(datos[\"nombre\"])\n",
        "\n",
        "# 4. Mostrar resultados\n",
        "print(f\"\\nEmpleados menores de 30: {menores_30}\")\n",
        "print(f\"Cantidad total de empleados: {total_empleados}\")"
      ],
      "metadata": {
        "colab": {
          "base_uri": "https://localhost:8080/"
        },
        "id": "-lzkRO1-R3sS",
        "outputId": "4559e0ff-eb34-4451-fd19-d1390e65a8af"
      },
      "execution_count": null,
      "outputs": [
        {
          "output_type": "stream",
          "name": "stdout",
          "text": [
            "Luis tiene 35 años (mayor de 30)\n",
            "Carlos tiene 41 años (mayor de 30)\n",
            "\n",
            "Empleados menores de 30: ['Ana', 'Sofía']\n",
            "Cantidad total de empleados: 5\n"
          ]
        }
      ]
    },
    {
      "cell_type": "markdown",
      "source": [
        "#**LECCIÓN 5**"
      ],
      "metadata": {
        "id": "4pChIf9PAFS7"
      }
    },
    {
      "cell_type": "markdown",
      "source": [
        "Programación Orientada a Objetos\n",
        "\n",
        "Estodos del objeto auto:\n",
        "\n",
        "Detenido\n",
        "\n",
        "Circulando\n",
        "\n",
        "Estacionado\n",
        "\n",
        "Dañado\n",
        "\n",
        "Objeto AUTO\n",
        "\n",
        "Propiedades/Atributos del objeto auto:\n",
        "\n",
        "Color\n",
        "\n",
        "Peso\n",
        "\n",
        "Tamaño\n",
        "\n",
        "Alto\n",
        "\n",
        "Largo\n",
        "\n",
        "Cantidad de ruedas\n",
        "\n",
        "Cantidad de puertas\n",
        "\n",
        "Tipo\n",
        "\n",
        "Comportamiento del objeto auto:\n",
        "\n",
        "Arrancar\n",
        "\n",
        "Frenar\n",
        "\n",
        "Acelerar\n",
        "\n",
        "Girar\n",
        "\n",
        "Consigna:\n",
        "\n",
        "Vuelve a observar con detenimiento la diapositiva en la que aparece el objeto auto, te animamos a que traduzcas a código toda la información que reúne esa clase.\n",
        "\n",
        "Convierte a código python esa class Auto(), con los atributos, métodos y estados que menciona en esa diapositiva.\n",
        "\n",
        "Paso a paso:\n",
        "\n",
        "1. Observar con detenimiento la imagen, identificar todas las partes que componen a una clase.\n",
        "\n",
        "2. Traducirlas a código Python, recordar buenas práticas.\n",
        "\n",
        "3. Crear todas las instancias de Auto() que quieras (crear al menos una para asegurarnos de que funciona.\n",
        "\n",
        "Tiempo:\n",
        "\n",
        "Aproximadamente 30 minutos.\n",
        "\n",
        "Bonus:\n",
        "\n",
        "Puedes también hacer el diagrama UML! incluso puedes hacerlo antes para tener una guía sobre la cual desarrollar el código."
      ],
      "metadata": {
        "id": "iQUKzk8aSklZ"
      }
    },
    {
      "cell_type": "markdown",
      "source": [
        "+------------------+\n",
        "|      Auto        |\n",
        "+------------------+\n",
        "| - color          |\n",
        "| - peso           |\n",
        "| - tamaño         |\n",
        "| - alto           |\n",
        "| - largo          |\n",
        "| - ruedas         |\n",
        "| - puertas        |\n",
        "| - tipo           |\n",
        "| - estado         |\n",
        "+------------------+\n",
        "| + arrancar()     |\n",
        "| + frenar()       |\n",
        "| + acelerar()     |\n",
        "| + girar(dir)     |\n",
        "| + estacionar()   |\n",
        "| + daniar()       |\n",
        "| + reparar()      |\n",
        "+------------------+"
      ],
      "metadata": {
        "id": "l5f_-sBmS3w2"
      }
    },
    {
      "cell_type": "code",
      "source": [
        "class Auto:\n",
        "    def __init__(self, color, peso, tamaño, alto, largo, ruedas, puertas, tipo):\n",
        "        # Atributos físicos\n",
        "        self.color = color\n",
        "        self.peso = peso\n",
        "        self.tamaño = tamaño\n",
        "        self.alto = alto\n",
        "        self.largo = largo\n",
        "        self.ruedas = ruedas\n",
        "        self.puertas = puertas\n",
        "        self.tipo = tipo\n",
        "\n",
        "        # Estado inicial\n",
        "        self.estado = \"Detenido\"  # Otros posibles: Circulando, Estacionado, Dañado\n",
        "\n",
        "    def arrancar(self):\n",
        "        if self.estado == \"Dañado\":\n",
        "            print(\"No se puede arrancar: el auto está dañado.\")\n",
        "        elif self.estado == \"Circulando\":\n",
        "            print(\"El auto ya está en movimiento.\")\n",
        "        else:\n",
        "            self.estado = \"Circulando\"\n",
        "            print(\"El auto ha arrancado y está circulando.\")\n",
        "\n",
        "    def frenar(self):\n",
        "        if self.estado == \"Circulando\":\n",
        "            self.estado = \"Detenido\"\n",
        "            print(\"El auto se ha detenido.\")\n",
        "        else:\n",
        "            print(\"El auto no está en movimiento.\")\n",
        "\n",
        "    def acelerar(self):\n",
        "        if self.estado == \"Circulando\":\n",
        "            print(\"El auto acelera.\")\n",
        "        elif self.estado == \"Dañado\":\n",
        "            print(\"No se puede acelerar: el auto está dañado.\")\n",
        "        else:\n",
        "            print(\"Primero debes arrancar el auto.\")\n",
        "\n",
        "    def girar(self, direccion):\n",
        "        if self.estado == \"Circulando\":\n",
        "            print(f\"El auto gira hacia la {direccion}.\")\n",
        "        else:\n",
        "            print(\"No puedes girar si el auto no está circulando.\")\n",
        "\n",
        "    def estacionar(self):\n",
        "        if self.estado == \"Circulando\":\n",
        "            self.estado = \"Estacionado\"\n",
        "            print(\"El auto ha sido estacionado.\")\n",
        "        else:\n",
        "            print(\"No puedes estacionar un auto que no está circulando.\")\n",
        "\n",
        "    def daniar(self):\n",
        "        self.estado = \"Dañado\"\n",
        "        print(\"El auto ha sido dañado.\")\n",
        "\n",
        "    def reparar(self):\n",
        "        if self.estado == \"Dañado\":\n",
        "            self.estado = \"Detenido\"\n",
        "            print(\"El auto ha sido reparado y está detenido.\")\n",
        "        else:\n",
        "            print(\"El auto no está dañado.\")\n",
        "\n",
        "\n",
        "# Crear instancia y probar\n",
        "mi_auto = Auto(\n",
        "    color=\"Rojo\",\n",
        "    peso=1200,\n",
        "    tamaño=\"Mediano\",\n",
        "    alto=1.5,\n",
        "    largo=4.2,\n",
        "    ruedas=4,\n",
        "    puertas=4,\n",
        "    tipo=\"Sedán\"\n",
        ")\n",
        "\n",
        "# Pruebas del auto\n",
        "mi_auto.arrancar()\n",
        "mi_auto.acelerar()\n",
        "mi_auto.girar(\"izquierda\")\n",
        "mi_auto.frenar()\n",
        "mi_auto.estacionar()\n",
        "mi_auto.daniar()\n",
        "mi_auto.arrancar()\n",
        "mi_auto.reparar()\n",
        "mi_auto.arrancar()"
      ],
      "metadata": {
        "colab": {
          "base_uri": "https://localhost:8080/"
        },
        "id": "H3lXYfXzTCX0",
        "outputId": "92057d18-8e76-4b75-b0e2-5a5e98847f2b"
      },
      "execution_count": null,
      "outputs": [
        {
          "output_type": "stream",
          "name": "stdout",
          "text": [
            "El auto ha arrancado y está circulando.\n",
            "El auto acelera.\n",
            "El auto gira hacia la izquierda.\n",
            "El auto se ha detenido.\n",
            "No puedes estacionar un auto que no está circulando.\n",
            "El auto ha sido dañado.\n",
            "No se puede arrancar: el auto está dañado.\n",
            "El auto ha sido reparado y está detenido.\n",
            "El auto ha arrancado y está circulando.\n"
          ]
        }
      ]
    },
    {
      "cell_type": "markdown",
      "source": [
        "#**LECCIÓN 6**"
      ],
      "metadata": {
        "id": "CZZtIfkUATtI"
      }
    },
    {
      "cell_type": "markdown",
      "source": [
        "Contexto:\n",
        "\n",
        "Está desarrollando una parte básica del sistema de una biblioteca. Queremos permitir que un usuario puedo pedir prestado un libro, siempre que haya stock. En caso de no haber stock disponible, se debe lanzar una excepción clara que el sistema pueda capturar.\n",
        "\n",
        "Consigna:\n",
        "\n",
        "Implementa en Python las siguientes clases y funcionalidades:\n",
        "\n",
        "Clase Libro con atributos título, autor y stock.\n",
        "\n",
        "Clase Biblioteca con un método prestar_libro(titulo) que:\n",
        "\n",
        "Verifique si hay stock del libro.\n",
        "\n",
        "Reduzca el stock si hay ejemplares disponibles.\n",
        "\n",
        "Lance una excepción LibroNoDisponibleError si no hay stock.\n",
        "\n",
        "Captura la excepción e imprime un mensaje que indique el error al usuario.\n",
        "Paso a paso sugerido:\n",
        "\n",
        "1. Crea la clase Libro con constructor e inicialización de atributos.\n",
        "\n",
        "2. Crea la clase LibroNoDisponibleError heredando de Exception.\n",
        "\n",
        "3. Define la clase Biblioteca con un diccionario de libros.\n",
        "\n",
        "4. Agrega el método prestar_libro(titulo) que:\n",
        "\n",
        "Verifique si el libro está en el catálogo.\n",
        "\n",
        "Verifique si hay stock.\n",
        "\n",
        "Reste uno al stock si hay.\n",
        "\n",
        "Lance la excepción si no hay stock.\n",
        "\n",
        "5. Pruebe el funcionamiento en un bloque try-except."
      ],
      "metadata": {
        "id": "uyo7ynE8UT1B"
      }
    },
    {
      "cell_type": "code",
      "source": [
        "# 1. Clase Libro\n",
        "class Libro:\n",
        "    def __init__(self, titulo, autor, stock):\n",
        "        self.titulo = titulo\n",
        "        self.autor = autor\n",
        "        self.stock = stock\n",
        "\n",
        "# 2. Excepción personalizada\n",
        "class LibroNoDisponibleError(Exception):\n",
        "    pass\n",
        "\n",
        "# 3. Clase Biblioteca\n",
        "class Biblioteca:\n",
        "    def __init__(self):\n",
        "        # Diccionario con clave: título, valor: objeto Libro\n",
        "        self.libros = {}\n",
        "\n",
        "    def agregar_libro(self, libro):\n",
        "        self.libros[libro.titulo] = libro\n",
        "\n",
        "    # 4. Método prestar_libro\n",
        "    def prestar_libro(self, titulo):\n",
        "        if titulo not in self.libros:\n",
        "            raise ValueError(f\"El libro '{titulo}' no está en el catálogo.\")\n",
        "\n",
        "        libro = self.libros[titulo]\n",
        "        if libro.stock <= 0:\n",
        "            # Lanzar excepción personalizada\n",
        "            raise LibroNoDisponibleError(f\"No hay stock disponible para '{titulo}'.\")\n",
        "\n",
        "        libro.stock -= 1\n",
        "        print(f\"Libro '{titulo}' prestado exitosamente. Stock restante: {libro.stock}\")\n",
        "\n",
        "# 5. Prueba con try-except\n",
        "biblioteca = Biblioteca()\n",
        "\n",
        "# Agregar libros\n",
        "biblioteca.agregar_libro(Libro(\"1984\", \"George Orwell\", 2))\n",
        "biblioteca.agregar_libro(Libro(\"Cien años de soledad\", \"Gabriel García Márquez\", 1))\n",
        "\n",
        "try:\n",
        "    biblioteca.prestar_libro(\"1984\")  # Stock 2 -> 1\n",
        "    biblioteca.prestar_libro(\"1984\")  # Stock 1 -> 0\n",
        "    biblioteca.prestar_libro(\"1984\")  # Debe lanzar excepción por no stock\n",
        "except LibroNoDisponibleError as e:\n",
        "    print(f\"Error: {e}\")\n",
        "except ValueError as ve:\n",
        "    print(f\"Error: {ve}\")\n",
        "\n",
        "try:\n",
        "    biblioteca.prestar_libro(\"El principito\")  # Libro no está en catálogo\n",
        "except LibroNoDisponibleError as e:\n",
        "    print(f\"Error: {e}\")\n",
        "except ValueError as ve:\n",
        "    print(f\"Error: {ve}\")"
      ],
      "metadata": {
        "id": "n9JgFpfAUVTj",
        "outputId": "9623079f-6979-45a2-86c7-9a47b004bcb5",
        "colab": {
          "base_uri": "https://localhost:8080/"
        }
      },
      "execution_count": null,
      "outputs": [
        {
          "output_type": "stream",
          "name": "stdout",
          "text": [
            "Libro '1984' prestado exitosamente. Stock restante: 1\n",
            "Libro '1984' prestado exitosamente. Stock restante: 0\n",
            "Error: No hay stock disponible para '1984'.\n",
            "Error: El libro 'El principito' no está en el catálogo.\n"
          ]
        }
      ]
    }
  ]
}